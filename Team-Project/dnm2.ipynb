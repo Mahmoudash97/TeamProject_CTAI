{
 "cells": [
  {
   "cell_type": "code",
   "execution_count": 1,
   "id": "c46d081d",
   "metadata": {},
   "outputs": [],
   "source": [
    "# Import necessary libraries\n",
    "import pandas as pd\n",
    "import numpy as np\n",
    "from sklearn.preprocessing import MinMaxScaler\n",
    "%matplotlib inline\n",
    "import os\n",
    "\n",
    "\n",
    "import matplotlib.pyplot as plt\n",
    "import pandas as pd\n",
    "import numpy as np\n",
    "import seaborn as sns\n",
    "import sys\n",
    "from sklearn import preprocessing\n",
    "from sklearn.preprocessing import MinMaxScaler, StandardScaler, RobustScaler\n",
    "from sklearn.metrics import confusion_matrix,accuracy_score, classification_report\n",
    "from sklearn.model_selection import train_test_split\n",
    "from sklearn.metrics.pairwise import euclidean_distances, cosine_similarity\n",
    "from sklearn.utils import shuffle\n",
    "from sklearn.utils import class_weight\n",
    "from sklearn.metrics import r2_score\n",
    "from sklearn.metrics import mean_absolute_error\n",
    "from sklearn.linear_model import LogisticRegression, LinearRegression\n",
    "from sklearn.ensemble import RandomForestClassifier, RandomForestRegressor\n",
    "import tensorflow as tf\n",
    "import tensorflow.keras\n",
    "from tensorflow.keras.models import Sequential\n",
    "from tensorflow.keras.layers import Dense, Dropout, Flatten, Activation, BatchNormalization,SpatialDropout1D,Bidirectional, Embedding, LSTM\n",
    "from tensorflow.keras.layers import Conv2D, MaxPooling2D\n",
    "from tensorflow.keras import backend as K\n",
    "from tensorflow.keras.utils import to_categorical\n",
    "from tensorflow.keras.callbacks import EarlyStopping\n",
    "from tensorflow.keras.preprocessing.sequence import pad_sequences\n",
    "from tensorflow.keras.preprocessing.text import Tokenizer, text_to_word_sequence\n",
    "import re\n",
    "\n",
    "np.set_printoptions(threshold=sys.maxsize)\n",
    "\n",
    "pd.set_option('display.max_rows',1000)\n",
    "pd.set_option('display.max_columns',1000)\n",
    "\n",
    "\n",
    "\n",
    "\n"
   ]
  },
  {
   "cell_type": "code",
   "execution_count": 7,
   "id": "3f1accd7",
   "metadata": {},
   "outputs": [
    {
     "name": "stdout",
     "output_type": "stream",
     "text": [
      "TensorFlow version: 2.10.0\n"
     ]
    }
   ],
   "source": [
    "import tensorflow as tf\n",
    "print(\"TensorFlow version:\", tf.__version__)\n"
   ]
  },
  {
   "cell_type": "code",
   "execution_count": 8,
   "id": "3418bccd",
   "metadata": {},
   "outputs": [],
   "source": [
    "physical_devices = tf.config.experimental.list_physical_devices('GPU')\n",
    "tf.config.experimental.set_memory_growth(physical_devices[0], True)"
   ]
  },
  {
   "cell_type": "code",
   "execution_count": 9,
   "id": "8c619929",
   "metadata": {},
   "outputs": [
    {
     "name": "stdout",
     "output_type": "stream",
     "text": [
      "[PhysicalDevice(name='/physical_device:GPU:0', device_type='GPU')]\n"
     ]
    }
   ],
   "source": [
    "import tensorflow as tf\n",
    "print(tf.config.list_physical_devices('GPU'))\n"
   ]
  },
  {
   "cell_type": "code",
   "execution_count": 10,
   "id": "32667e5a",
   "metadata": {},
   "outputs": [],
   "source": [
    "import numpy as np\n",
    "import pandas as pd\n",
    "import seaborn as sns\n",
    "from scipy import stats\n",
    "import matplotlib.pyplot as plt\n",
    "import json\n",
    "import re\n",
    "import os\n"
   ]
  },
  {
   "cell_type": "code",
   "execution_count": 11,
   "id": "f19cb659",
   "metadata": {},
   "outputs": [],
   "source": [
    "from sklearn.model_selection import train_test_split\n",
    "from sklearn.preprocessing import StandardScaler\n",
    "from sklearn.ensemble import RandomForestRegressor\n",
    "from sklearn.metrics import mean_squared_error"
   ]
  },
  {
   "cell_type": "code",
   "execution_count": 7,
   "id": "11dc8c96",
   "metadata": {},
   "outputs": [
    {
     "name": "stdout",
     "output_type": "stream",
     "text": [
      "   right ankle  left ankle  right knee   left knee   right hip    left hip  \\\n",
      "0    12.944026    6.000800   95.942831   99.854393  113.441687  131.700036   \n",
      "1    12.443676    0.781863   95.782953  101.014812  114.488851  130.505853   \n",
      "2    11.637988   -0.908656   95.323614  100.349987  114.571658  129.621774   \n",
      "3    10.841199   -0.329296   94.148861   98.000590  113.431576  128.903630   \n",
      "4    10.413660   -0.441691   92.743903   96.162573  112.335880  128.525763   \n",
      "\n",
      "   right shoulder  left shoulder  right elbow  left elbow  right foot  \\\n",
      "0       86.836579      83.225082     8.548693   13.507208  -59.036241   \n",
      "1       87.120283      84.077935     9.159329   10.111409  -58.531338   \n",
      "2       87.306814      84.644709     9.344013    9.018444  -58.972446   \n",
      "3       87.275561      85.057686     8.804522    9.391575  -59.715785   \n",
      "4       87.274781      85.535041     8.185580    8.998181  -59.850859   \n",
      "\n",
      "   left foot  right shank  left shank  right thigh  left thigh     pelvis  \\\n",
      "0 -51.632681  -161.980267 -147.633480   -66.037436  -47.779088 -11.309968   \n",
      "1 -59.408008  -160.975014 -150.189871   -65.192061  -49.175059 -13.118058   \n",
      "2 -61.495347  -160.610433 -150.586691   -65.286820  -50.236704 -13.697501   \n",
      "3 -59.265955  -160.556984 -148.936659   -66.408123  -50.936069 -13.104508   \n",
      "4 -57.934997  -160.264518 -147.493306   -67.520615  -51.330733 -12.562824   \n",
      "\n",
      "      trunk  shoulders      head  right arm   left arm  right forearm  \\\n",
      "0  0.520877 -71.565263  6.709890 -92.642545 -96.254042     -84.093852   \n",
      "1  0.492759 -81.743235  6.152911 -92.560629 -95.602977     -83.401300   \n",
      "2  0.541917 -86.758370  5.525006 -92.551664 -95.213769     -83.207652   \n",
      "3  0.563327 -87.152234  5.317728 -92.564138 -94.782013     -83.759617   \n",
      "4  0.296079 -86.551569  5.662701 -92.581715 -94.321455     -84.396135   \n",
      "\n",
      "   left forearm                   athlete_id  \n",
      "0    -82.746833  1046239441-preview_person00  \n",
      "1    -85.491568  1046239441-preview_person00  \n",
      "2    -86.195325  1046239441-preview_person00  \n",
      "3    -85.390438  1046239441-preview_person00  \n",
      "4    -85.323274  1046239441-preview_person00  \n",
      "<class 'pandas.core.frame.DataFrame'>\n",
      "RangeIndex: 9967 entries, 0 to 9966\n",
      "Data columns (total 25 columns):\n",
      " #   Column          Non-Null Count  Dtype  \n",
      "---  ------          --------------  -----  \n",
      " 0   right ankle     9967 non-null   float64\n",
      " 1   left ankle      9967 non-null   float64\n",
      " 2   right knee      9967 non-null   float64\n",
      " 3   left knee       9967 non-null   float64\n",
      " 4   right hip       9967 non-null   float64\n",
      " 5   left hip        9967 non-null   float64\n",
      " 6   right shoulder  9967 non-null   float64\n",
      " 7   left shoulder   9967 non-null   float64\n",
      " 8   right elbow     9967 non-null   float64\n",
      " 9   left elbow      9967 non-null   float64\n",
      " 10  right foot      9967 non-null   float64\n",
      " 11  left foot       9967 non-null   float64\n",
      " 12  right shank     9967 non-null   float64\n",
      " 13  left shank      9967 non-null   float64\n",
      " 14  right thigh     9967 non-null   float64\n",
      " 15  left thigh      9967 non-null   float64\n",
      " 16  pelvis          9967 non-null   float64\n",
      " 17  trunk           9967 non-null   float64\n",
      " 18  shoulders       9967 non-null   float64\n",
      " 19  head            9967 non-null   float64\n",
      " 20  right arm       9967 non-null   float64\n",
      " 21  left arm        9967 non-null   float64\n",
      " 22  right forearm   9967 non-null   float64\n",
      " 23  left forearm    9967 non-null   float64\n",
      " 24  athlete_id      9967 non-null   object \n",
      "dtypes: float64(24), object(1)\n",
      "memory usage: 1.9+ MB\n",
      "None\n"
     ]
    }
   ],
   "source": [
    "# Step 1: Load the dataset\n",
    "df = pd.read_csv('dnm_data.csv')\n",
    "\n",
    "# Step 2: Inspect the data\n",
    "print(df.head())\n",
    "print(df.info())\n"
   ]
  },
  {
   "cell_type": "code",
   "execution_count": 9,
   "id": "63e582cc",
   "metadata": {},
   "outputs": [],
   "source": [
    "# Step 4: Normalize all columns (except athlete_id)\n",
    "# Extract numeric columns excluding 'athlete_id'\n",
    "numeric_cols = df.columns.difference(['athlete_id'])\n",
    "\n",
    "# Use MinMaxScaler to normalize all positional columns between 0 and 1\n",
    "scaler = MinMaxScaler()\n",
    "df[numeric_cols] = scaler.fit_transform(df[numeric_cols])\n"
   ]
  },
  {
   "cell_type": "code",
   "execution_count": 10,
   "id": "a94e0920",
   "metadata": {},
   "outputs": [],
   "source": [
    "# Step 5: Define the scoring function using all numeric columns\n",
    "def calculate_row_score(row):\n",
    "    \"\"\"\n",
    "    Calculate a score for a row based on all positional values.\n",
    "    \"\"\"\n",
    "    # Calculate the average of all normalized values (excluding athlete_id)\n",
    "    score = row[numeric_cols].mean()\n",
    "    return score\n",
    "\n",
    "# Apply the scoring function to calculate row scores\n",
    "df['row_score'] = df.apply(calculate_row_score, axis=1)"
   ]
  },
  {
   "cell_type": "code",
   "execution_count": 13,
   "id": "e0363fe0",
   "metadata": {},
   "outputs": [
    {
     "data": {
      "text/plain": [
       "count    9967.000000\n",
       "mean        0.408253\n",
       "std         0.048574\n",
       "min         0.310053\n",
       "25%         0.375795\n",
       "50%         0.401576\n",
       "75%         0.430527\n",
       "max         0.615844\n",
       "Name: row_score, dtype: float64"
      ]
     },
     "execution_count": 13,
     "metadata": {},
     "output_type": "execute_result"
    }
   ],
   "source": [
    "df.row_score.describe()"
   ]
  },
  {
   "cell_type": "code",
   "execution_count": 14,
   "id": "16d5fd2f",
   "metadata": {},
   "outputs": [],
   "source": [
    "# Step 6: Scale row scores to a range of 0 to 5 for final scoring\n",
    "scaler_row_scores = MinMaxScaler(feature_range=(0, 5))\n",
    "df['row_score_normalized'] = scaler_row_scores.fit_transform(df[['row_score']])"
   ]
  },
  {
   "cell_type": "code",
   "execution_count": 15,
   "id": "1a917c54",
   "metadata": {},
   "outputs": [],
   "source": [
    "# Step 7: Group by athlete_id and calculate the overall score per athlete\n",
    "athlete_scores = df.groupby('athlete_id')['row_score_normalized'].mean().reset_index()\n",
    "athlete_scores.rename(columns={'row_score_normalized': 'overall_score'}, inplace=True)"
   ]
  },
  {
   "cell_type": "code",
   "execution_count": 16,
   "id": "7718c4c3",
   "metadata": {},
   "outputs": [
    {
     "name": "stdout",
     "output_type": "stream",
     "text": [
      "Overall Scores for Each Athlete:\n",
      "                       athlete_id  overall_score\n",
      "0     1046239441-preview_person00       1.542449\n",
      "1     3651805267-preview_person00       1.295582\n",
      "2   SprintStartEvaluate1_person00       1.299573\n",
      "3                  block_person00       1.326242\n",
      "4                  block_person01       1.780781\n",
      "5                  block_person02       1.420349\n",
      "6                   man1_person00       2.747657\n",
      "7                   man1_person01       1.155326\n",
      "8                   man1_person04       1.969553\n",
      "9                 women1_person00       2.691000\n",
      "10                women1_person01       1.757825\n",
      "11                women2_person01       1.269015\n",
      "12                women2_person02       0.871677\n",
      "13                women3_person01       1.289331\n",
      "14                women3_person02       0.892554\n"
     ]
    }
   ],
   "source": [
    "# Step 8: Output the results\n",
    "print(\"Overall Scores for Each Athlete:\")\n",
    "print(athlete_scores)\n"
   ]
  },
  {
   "cell_type": "code",
   "execution_count": 17,
   "id": "e0c0962f",
   "metadata": {},
   "outputs": [
    {
     "data": {
      "image/png": "[encoded data removed]",
      "text/plain": [
       "<Figure size 864x432 with 1 Axes>"
      ]
     },
     "metadata": {
      "needs_background": "light"
     },
     "output_type": "display_data"
    }
   ],
   "source": [
    "# Step 9: Visualization (Optional)\n",
    "import matplotlib.pyplot as plt\n",
    "\n",
    "# Bar plot of overall scores for athletes\n",
    "plt.figure(figsize=(12, 6))\n",
    "plt.bar(athlete_scores['athlete_id'], athlete_scores['overall_score'], color='skyblue')\n",
    "plt.xlabel('Athlete ID')\n",
    "plt.ylabel('Overall Score (0-5)')\n",
    "plt.title('Overall Scores for Athletes')\n",
    "plt.xticks(rotation=90)\n",
    "plt.show()"
   ]
  },
  {
   "cell_type": "code",
   "execution_count": 49,
   "id": "efad0c11",
   "metadata": {},
   "outputs": [
    {
     "name": "stdout",
     "output_type": "stream",
     "text": [
      "Overall Scores for Each Athlete:\n",
      "                       athlete_id  overall_score\n",
      "0     1046239441-preview_person00       2.313926\n",
      "1     3651805267-preview_person00       2.092686\n",
      "2   SprintStartEvaluate1_person00       2.436663\n",
      "3                  block_person00       2.796673\n",
      "4                  block_person01       2.336142\n",
      "5                  block_person02       2.255528\n",
      "6                   man1_person00       1.716593\n",
      "7                   man1_person01       2.106454\n",
      "8                   man1_person04       2.035913\n",
      "9                 women1_person00       2.472450\n",
      "10                women1_person01       3.186470\n",
      "11                women2_person01       2.323362\n",
      "12                women2_person02       3.009652\n",
      "13                women3_person01       3.305150\n",
      "14                women3_person02       1.470671\n"
     ]
    },
    {
     "data": {
      "image/png": "[encoded data removed]",
      "text/plain": [
       "<Figure size 864x432 with 1 Axes>"
      ]
     },
     "metadata": {
      "needs_background": "light"
     },
     "output_type": "display_data"
    }
   ],
   "source": [
    "# Import necessary libraries\n",
    "import pandas as pd\n",
    "import numpy as np\n",
    "from sklearn.preprocessing import MinMaxScaler\n",
    "\n",
    "# Step 1: Load the dataset\n",
    "df = pd.read_csv('dnm_data.csv')\n",
    "\n",
    "\n",
    "\n",
    "# Step 3: Normalize values per athlete\n",
    "# Group by athlete_id\n",
    "numeric_cols = df.columns.difference(['athlete_id'])\n",
    "df[numeric_cols] = df.groupby('athlete_id')[numeric_cols].transform(\n",
    "    lambda x: (x - x.min()) / (x.max() - x.min())\n",
    ")\n",
    "\n",
    "# Step 4: Weighted scoring function\n",
    "def calculate_weighted_score(row, weights):\n",
    "    \"\"\"\n",
    "    Calculate a weighted score based on positional values.\n",
    "    :param row: DataFrame row\n",
    "    :param weights: Dictionary of column weights\n",
    "    \"\"\"\n",
    "    weighted_sum = sum(row[col] * weights.get(col, 1) for col in numeric_cols)\n",
    "    return weighted_sum / sum(weights.values())\n",
    "\n",
    "# Define weights for each column (adjust as needed)\n",
    "weights = {\n",
    "    'trunk': 1.5,\n",
    "    'shoulders': 1.2,\n",
    "    'head': 1.0,\n",
    "    'right arm': 1.0,\n",
    "    'left arm': 1.0,\n",
    "    'right forearm': 1.3,\n",
    "    'left forearm': 1.3,\n",
    "}\n",
    "\n",
    "# Apply the weighted scoring function\n",
    "df['row_score'] = df.apply(calculate_weighted_score, axis=1, weights=weights)\n",
    "\n",
    "# Step 5: Scale row scores to a range of 0 to 5\n",
    "scaler = MinMaxScaler(feature_range=(0, 5))\n",
    "df['row_score_scaled'] = scaler.fit_transform(df[['row_score']])\n",
    "\n",
    "# Step 6: Group by athlete_id and calculate overall score\n",
    "athlete_scores = df.groupby('athlete_id')['row_score_scaled'].mean().reset_index()\n",
    "athlete_scores.rename(columns={'row_score_scaled': 'overall_score'}, inplace=True)\n",
    "\n",
    "# Step 7: Output the results\n",
    "print(\"Overall Scores for Each Athlete:\")\n",
    "print(athlete_scores)\n",
    "\n",
    "# Step 8: Visualization (Optional)\n",
    "import matplotlib.pyplot as plt\n",
    "\n",
    "# Bar plot of overall scores\n",
    "plt.figure(figsize=(12, 6))\n",
    "plt.bar(athlete_scores['athlete_id'], athlete_scores['overall_score'], color='skyblue')\n",
    "plt.xlabel('Athlete ID')\n",
    "plt.ylabel('Overall Score (0-5)')\n",
    "plt.title('Overall Scores for Athletes')\n",
    "plt.xticks(rotation=90)\n",
    "plt.show()\n"
   ]
  },
  {
   "cell_type": "code",
   "execution_count": 25,
   "id": "116931db",
   "metadata": {},
   "outputs": [],
   "source": [
    "# Step 1: Define features (X) and target (y)\n",
    "X = df[numeric_cols]  # All positional columns\n",
    "y = df['row_score_scaled']  # Target variable: normalized row score\n"
   ]
  },
  {
   "cell_type": "code",
   "execution_count": 26,
   "id": "1c5e7e9b",
   "metadata": {},
   "outputs": [],
   "source": [
    "# Step 2: Split data into training and testing sets\n",
    "X_train, X_test, y_train, y_test = train_test_split(X, y, test_size=0.2, random_state=42)\n"
   ]
  },
  {
   "cell_type": "code",
   "execution_count": 27,
   "id": "69f5e0d7",
   "metadata": {},
   "outputs": [
    {
     "data": {
      "text/html": [
       "<style>#sk-container-id-1 {color: black;background-color: white;}#sk-container-id-1 pre{padding: 0;}#sk-container-id-1 div.sk-toggleable {background-color: white;}#sk-container-id-1 label.sk-toggleable__label {cursor: pointer;display: block;width: 100%;margin-bottom: 0;padding: 0.3em;box-sizing: border-box;text-align: center;}#sk-container-id-1 label.sk-toggleable__label-arrow:before {content: \"▸\";float: left;margin-right: 0.25em;color: #696969;}#sk-container-id-1 label.sk-toggleable__label-arrow:hover:before {color: black;}#sk-container-id-1 div.sk-estimator:hover label.sk-toggleable__label-arrow:before {color: black;}#sk-container-id-1 div.sk-toggleable__content {max-height: 0;max-width: 0;overflow: hidden;text-align: left;background-color: #f0f8ff;}#sk-container-id-1 div.sk-toggleable__content pre {margin: 0.2em;color: black;border-radius: 0.25em;background-color: #f0f8ff;}#sk-container-id-1 input.sk-toggleable__control:checked~div.sk-toggleable__content {max-height: 200px;max-width: 100%;overflow: auto;}#sk-container-id-1 input.sk-toggleable__control:checked~label.sk-toggleable__label-arrow:before {content: \"▾\";}#sk-container-id-1 div.sk-estimator input.sk-toggleable__control:checked~label.sk-toggleable__label {background-color: #d4ebff;}#sk-container-id-1 div.sk-label input.sk-toggleable__control:checked~label.sk-toggleable__label {background-color: #d4ebff;}#sk-container-id-1 input.sk-hidden--visually {border: 0;clip: rect(1px 1px 1px 1px);clip: rect(1px, 1px, 1px, 1px);height: 1px;margin: -1px;overflow: hidden;padding: 0;position: absolute;width: 1px;}#sk-container-id-1 div.sk-estimator {font-family: monospace;background-color: #f0f8ff;border: 1px dotted black;border-radius: 0.25em;box-sizing: border-box;margin-bottom: 0.5em;}#sk-container-id-1 div.sk-estimator:hover {background-color: #d4ebff;}#sk-container-id-1 div.sk-parallel-item::after {content: \"\";width: 100%;border-bottom: 1px solid gray;flex-grow: 1;}#sk-container-id-1 div.sk-label:hover label.sk-toggleable__label {background-color: #d4ebff;}#sk-container-id-1 div.sk-serial::before {content: \"\";position: absolute;border-left: 1px solid gray;box-sizing: border-box;top: 0;bottom: 0;left: 50%;z-index: 0;}#sk-container-id-1 div.sk-serial {display: flex;flex-direction: column;align-items: center;background-color: white;padding-right: 0.2em;padding-left: 0.2em;position: relative;}#sk-container-id-1 div.sk-item {position: relative;z-index: 1;}#sk-container-id-1 div.sk-parallel {display: flex;align-items: stretch;justify-content: center;background-color: white;position: relative;}#sk-container-id-1 div.sk-item::before, #sk-container-id-1 div.sk-parallel-item::before {content: \"\";position: absolute;border-left: 1px solid gray;box-sizing: border-box;top: 0;bottom: 0;left: 50%;z-index: -1;}#sk-container-id-1 div.sk-parallel-item {display: flex;flex-direction: column;z-index: 1;position: relative;background-color: white;}#sk-container-id-1 div.sk-parallel-item:first-child::after {align-self: flex-end;width: 50%;}#sk-container-id-1 div.sk-parallel-item:last-child::after {align-self: flex-start;width: 50%;}#sk-container-id-1 div.sk-parallel-item:only-child::after {width: 0;}#sk-container-id-1 div.sk-dashed-wrapped {border: 1px dashed gray;margin: 0 0.4em 0.5em 0.4em;box-sizing: border-box;padding-bottom: 0.4em;background-color: white;}#sk-container-id-1 div.sk-label label {font-family: monospace;font-weight: bold;display: inline-block;line-height: 1.2em;}#sk-container-id-1 div.sk-label-container {text-align: center;}#sk-container-id-1 div.sk-container {/* jupyter's `normalize.less` sets `[hidden] { display: none; }` but bootstrap.min.css set `[hidden] { display: none !important; }` so we also need the `!important` here to be able to override the default hidden behavior on the sphinx rendered scikit-learn.org. See: https://github.com/scikit-learn/scikit-learn/issues/21755 */display: inline-block !important;position: relative;}#sk-container-id-1 div.sk-text-repr-fallback {display: none;}</style><div id=\"sk-container-id-1\" class=\"sk-top-container\"><div class=\"sk-text-repr-fallback\"><pre>RandomForestRegressor(random_state=42)</pre><b>In a Jupyter environment, please rerun this cell to show the HTML representation or trust the notebook. <br />On GitHub, the HTML representation is unable to render, please try loading this page with nbviewer.org.</b></div><div class=\"sk-container\" hidden><div class=\"sk-item\"><div class=\"sk-estimator sk-toggleable\"><input class=\"sk-toggleable__control sk-hidden--visually\" id=\"sk-estimator-id-1\" type=\"checkbox\" checked><label for=\"sk-estimator-id-1\" class=\"sk-toggleable__label sk-toggleable__label-arrow\">RandomForestRegressor</label><div class=\"sk-toggleable__content\"><pre>RandomForestRegressor(random_state=42)</pre></div></div></div></div></div>"
      ],
      "text/plain": [
       "RandomForestRegressor(random_state=42)"
      ]
     },
     "execution_count": 27,
     "metadata": {},
     "output_type": "execute_result"
    }
   ],
   "source": [
    "# Step 3: Initialize and train the Random Forest Regressor\n",
    "model = RandomForestRegressor(n_estimators=100, random_state=42)\n",
    "model.fit(X_train, y_train)\n"
   ]
  },
  {
   "cell_type": "code",
   "execution_count": 28,
   "id": "45c09bba",
   "metadata": {},
   "outputs": [
    {
     "name": "stdout",
     "output_type": "stream",
     "text": [
      "Mean Absolute Error (MAE): 0.032\n",
      "R² Score: 0.994\n"
     ]
    }
   ],
   "source": [
    "# Step 4: Evaluate the model\n",
    "y_pred = model.predict(X_test)\n",
    "\n",
    "# Calculate evaluation metrics\n",
    "mae = mean_absolute_error(y_test, y_pred)\n",
    "r2 = r2_score(y_test, y_pred)\n",
    "\n",
    "print(f\"Mean Absolute Error (MAE): {mae:.3f}\")\n",
    "print(f\"R² Score: {r2:.3f}\")"
   ]
  },
  {
   "cell_type": "code",
   "execution_count": 31,
   "id": "ba6059d8",
   "metadata": {},
   "outputs": [
    {
     "name": "stdout",
     "output_type": "stream",
     "text": [
      "Model saved as 'athlete_scoring_model.pkl'.\n"
     ]
    }
   ],
   "source": [
    "import joblib\n",
    "# Step 5: Save the trained model\n",
    "joblib.dump(model, 'athlete_scoring_model_new.pkl')\n",
    "print(\"Model saved as 'athlete_scoring_model.pkl'.\")"
   ]
  },
  {
   "cell_type": "code",
   "execution_count": 29,
   "id": "29b30b61",
   "metadata": {},
   "outputs": [
    {
     "data": {
      "image/png": "[encoded data removed]",
      "text/plain": [
       "<Figure size 576x432 with 1 Axes>"
      ]
     },
     "metadata": {
      "needs_background": "light"
     },
     "output_type": "display_data"
    }
   ],
   "source": [
    "# Step 7: Visualize predictions vs actual scores (Optional)\n",
    "plt.figure(figsize=(8, 6))\n",
    "plt.scatter(y_test, y_pred, alpha=0.7, color='blue')\n",
    "plt.plot([0, 5], [0, 5], '--r')  # Ideal line\n",
    "plt.xlabel(\"Actual Scores\")\n",
    "plt.ylabel(\"Predicted Scores\")\n",
    "plt.title(\"Actual vs Predicted Scores\")\n",
    "plt.show()"
   ]
  },
  {
   "cell_type": "code",
   "execution_count": 47,
   "id": "97b4cdaa",
   "metadata": {},
   "outputs": [
    {
     "name": "stdout",
     "output_type": "stream",
     "text": [
      "Model loaded successfully.\n",
      "Overall Exam Score: 2.72 / 5.0\n"
     ]
    },
    {
     "name": "stderr",
     "output_type": "stream",
     "text": [
      "C:\\Users\\izzet\\anaconda3\\lib\\site-packages\\sklearn\\base.py:493: FutureWarning: The feature names should match those that were passed during fit. Starting version 1.2, an error will be raised.\n",
      "Feature names must be in the same order as they were in fit.\n",
      "\n",
      "  warnings.warn(message, FutureWarning)\n"
     ]
    }
   ],
   "source": [
    "# Import necessary libraries\n",
    "import pandas as pd\n",
    "from sklearn.preprocessing import MinMaxScaler\n",
    "import joblib\n",
    "\n",
    "# Step 1: Load the test dataset\n",
    "test_df = pd.read_csv('women1_Sports2D_angles_person01.xls', skiprows=10, sep='\\t')  # Replace with the actual test file name\n",
    "test_df = test_df .drop(columns=['time'])\n",
    "# Step 2: Normalize all columns in the test dataset\n",
    "# Apply Min-Max Scaling globally\n",
    "test_df = test_df.transform(lambda x: (x - x.min()) / (x.max() - x.min()))\n",
    "\n",
    "# Step 3: Load the trained model (athlete_scoring_model_new.pkl)\n",
    "model = joblib.load('athlete_scoring_model_new.pkl')\n",
    "print(\"Model loaded successfully.\")\n",
    "\n",
    "# Step 4: Make predictions for the test set\n",
    "predictions = model.predict(test_df)\n",
    "\n",
    "# Step 5: Calculate the overall score (mean of all rows in the test set)\n",
    "overall_score = predictions.mean()\n",
    "\n",
    "# Step 6: Display the overall score\n",
    "print(f\"Overall Exam Score: {overall_score:.2f} / 5.0\")\n"
   ]
  },
  {
   "cell_type": "code",
   "execution_count": 50,
   "id": "548dae73",
   "metadata": {},
   "outputs": [
    {
     "name": "stdout",
     "output_type": "stream",
     "text": [
      "Model loaded successfully.\n",
      "Overall Exam Score: 2.58 / 5.0\n"
     ]
    },
    {
     "name": "stderr",
     "output_type": "stream",
     "text": [
      "C:\\Users\\izzet\\anaconda3\\lib\\site-packages\\sklearn\\base.py:493: FutureWarning: The feature names should match those that were passed during fit. Starting version 1.2, an error will be raised.\n",
      "Feature names must be in the same order as they were in fit.\n",
      "\n",
      "  warnings.warn(message, FutureWarning)\n"
     ]
    }
   ],
   "source": [
    "# Import necessary libraries\n",
    "import pandas as pd\n",
    "from sklearn.preprocessing import MinMaxScaler\n",
    "import joblib\n",
    "\n",
    "# Step 1: Load the test dataset\n",
    "test_df = pd.read_csv('man2_Sports2D_angles_person01.xls', skiprows=10, sep='\\t')  # Replace with the actual test file name\n",
    "test_df = test_df .drop(columns=['time'])\n",
    "# Step 2: Normalize all columns in the test dataset\n",
    "# Apply Min-Max Scaling globally\n",
    "test_df = test_df.transform(lambda x: (x - x.min()) / (x.max() - x.min()))\n",
    "\n",
    "# Step 3: Load the trained model (athlete_scoring_model_new.pkl)\n",
    "model = joblib.load('athlete_scoring_model_new.pkl')\n",
    "print(\"Model loaded successfully.\")\n",
    "\n",
    "# Step 4: Make predictions for the test set\n",
    "predictions = model.predict(test_df)\n",
    "\n",
    "# Step 5: Calculate the overall score (mean of all rows in the test set)\n",
    "overall_score = predictions.mean()\n",
    "\n",
    "# Step 6: Display the overall score\n",
    "print(f\"Overall Exam Score: {overall_score:.2f} / 5.0\")\n"
   ]
  }
 ],
 "metadata": {
  "kernelspec": {
   "display_name": "Python 3 (ipykernel)",
   "language": "python",
   "name": "python3"
  },
  "language_info": {
   "codemirror_mode": {
    "name": "ipython",
    "version": 3
   },
   "file_extension": ".py",
   "mimetype": "text/x-python",
   "name": "python",
   "nbconvert_exporter": "python",
   "pygments_lexer": "ipython3",
   "version": "3.9.7"
  }
 },
 "nbformat": 4,
 "nbformat_minor": 5
}
